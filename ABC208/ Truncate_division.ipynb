{
 "cells": [
  {
   "cell_type": "markdown",
   "metadata": {},
   "source": [
    "# pythonにおける切り捨て除算について\n",
    "\n",
    "ABC 208のc問題をpythonで解く時，切り捨て除算を```int()```で行っていたらWCとなった．\n",
    "\n",
    "pythonの切り捨て除算を```//```の演算子で行うのが定石らしいのでなぜ```int()```ではいけないのかまとめる．\n",
    "\n",
    "(参考文献:[こちら](https://qiita.com/H20/items/1a066e242815961cd043#2%E9%99%A4%E7%AE%97%E3%81%AE%E5%88%87%E3%82%8A%E4%B8%8A%E3%81%92%E5%88%87%E3%82%8A%E4%B8%8B%E3%81%92)と[こちら](https://linus-mk.hatenablog.com/entry/2019/05/26/234642))"
   ]
  },
  {
   "cell_type": "markdown",
   "metadata": {},
   "source": [
    "## floatとint\n",
    "\n",
    "今回に限らず，pythonにおいて除算を```a/b```で行ってしまうと型typeがfloatで出るので```int(a/b)```で無理やりにintに直して計算することは可能\n"
   ]
  },
  {
   "cell_type": "code",
   "execution_count": 1,
   "metadata": {},
   "outputs": [
    {
     "name": "stdout",
     "output_type": "stream",
     "text": [
      "3\n"
     ]
    }
   ],
   "source": [
    "#例\n",
    "print(int(10/3))"
   ]
  },
  {
   "cell_type": "markdown",
   "metadata": {},
   "source": [
    "しかしながら，$10/3$は小数点を用いると無限に$3.33333.....$と続いてしまい計算結果を保持できなくなるので浮動小数点を用いている．\n",
    "\n",
    "浮動小数点の精度はせいぜい，$\\log 2^{53}$みたいなので大体15桁までの計算結果しか精度を保てない.そのために計算結果が16桁以上になると，答えが正しく求まらなくなる."
   ]
  },
  {
   "cell_type": "code",
   "execution_count": 10,
   "metadata": {},
   "outputs": [
    {
     "name": "stdout",
     "output_type": "stream",
     "text": [
      "333333333333333312\n",
      "333333333333333333\n"
     ]
    }
   ],
   "source": [
    "#答えが変わる例\n",
    "#今まででやると計算結果が333333333333333312\n",
    "print(int(1000000000000000000 /3))\n",
    "#正しい答え 333333333333333333\n",
    "print(1000000000000000000 //3)"
   ]
  },
  {
   "cell_type": "markdown",
   "metadata": {},
   "source": [
    "## ABC 208"
   ]
  },
  {
   "cell_type": "markdown",
   "metadata": {},
   "source": [
    "ABC208のC問題は簡単にいうと今持っている$K$個のお菓子を$N$人に均等に分配し，余ったお菓子$K^{\\prime}$のお菓子は各人々に割り振られている国民番号$a_i$の小さい順に与えていくという問題であった．\n",
    " >詳しくはこちら: [https://atcoder.jp/contests/abc208/tasks/abc208_c](https://atcoder.jp/contests/abc208/tasks/abc208_c)"
   ]
  },
  {
   "cell_type": "markdown",
   "metadata": {},
   "source": [
    "この余ったお菓子を求める時に```int(K/N)```を使っていたが，Kが桁数がバカでかい時に配る人数Nがとても小さいと今回の場合は不正解となってしまった．\n",
    "\n",
    "いい経験になったと思う(レートもかなり下がりました...)\n",
    "\n",
    "詳しいコードは以下"
   ]
  },
  {
   "cell_type": "markdown",
   "metadata": {},
   "source": [
    "```\n",
    "\n",
    "N, K = map(int, input().split())\n",
    "a = list(map(int, input().split()))\n",
    "\n",
    "if K %N == 0:\n",
    "    for i in range(N):\n",
    "        print(int(K/N))\n",
    "else:\n",
    "    b = sorted(a)\n",
    "    c = b[K%N]\n",
    "    for i in range(N):\n",
    "        if a[i] >= c:\n",
    "            print(K//N)\n",
    "        else:\n",
    "            print(K//N+1)\n",
    "```"
   ]
  },
  {
   "cell_type": "markdown",
   "metadata": {},
   "source": []
  }
 ],
 "metadata": {
  "interpreter": {
   "hash": "d1a512dd888fe4d30ae87f2be122e5e31ff9c13ca5d4703267302db5adc57cfb"
  },
  "kernelspec": {
   "display_name": "Python 3.6.9 64-bit ('pypy3.6-7.3.0': pyenv)",
   "name": "python3"
  },
  "language_info": {
   "codemirror_mode": {
    "name": "ipython",
    "version": 3
   },
   "file_extension": ".py",
   "mimetype": "text/x-python",
   "name": "python",
   "nbconvert_exporter": "python",
   "pygments_lexer": "ipython3",
   "version": "3.6.9"
  },
  "orig_nbformat": 4
 },
 "nbformat": 4,
 "nbformat_minor": 2
}